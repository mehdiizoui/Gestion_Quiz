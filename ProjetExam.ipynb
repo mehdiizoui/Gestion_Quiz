{
  "nbformat": 4,
  "nbformat_minor": 0,
  "metadata": {
    "colab": {
      "name": "ProjetExam.ipynb",
      "provenance": [],
      "collapsed_sections": [],
      "authorship_tag": "ABX9TyOthAPFnwIcWqo04tSOU9Q5",
      "include_colab_link": true
    },
    "kernelspec": {
      "name": "python3",
      "display_name": "Python 3"
    },
    "language_info": {
      "name": "python"
    }
  },
  "cells": [
    {
      "cell_type": "markdown",
      "metadata": {
        "id": "view-in-github",
        "colab_type": "text"
      },
      "source": [
        "<a href=\"https://colab.research.google.com/github/mehdiizoui/Gestion_Quiz/blob/master/ProjetExam.ipynb\" target=\"_parent\"><img src=\"https://colab.research.google.com/assets/colab-badge.svg\" alt=\"Open In Colab\"/></a>"
      ]
    },
    {
      "cell_type": "code",
      "metadata": {
        "id": "-TeBBf06LG16"
      },
      "source": [
        "## Déclaration d'importation ##\n",
        "\n",
        "import tensorflow as tf\n",
        "import collections\n",
        "import imageio\n",
        "import matplotlib.pyplot as plt\n",
        "from PIL import Image\n",
        "import numpy as np\n",
        "import keras\n",
        "from keras.layers import Input, Dense, Conv2D, MaxPool2D, GlobalAvgPool2D, ZeroPadding2D, Dropout, Flatten, Concatenate, Reshape, Activation\n",
        "from keras.models import Model\n",
        "from keras.regularizers import l2\n",
        "from keras.optimizers import SGD\n",
        "from keras.callbacks import ModelCheckpoint, Callback, EarlyStopping\n",
        "from tensorflow.keras.utils import to_categorical\n"
      ],
      "execution_count": 17,
      "outputs": []
    },
    {
      "cell_type": "code",
      "metadata": {
        "id": "I2bmFCn6LM6X"
      },
      "source": [
        "## Définition des paramètres du modèle ##\n",
        "\n",
        "epochs = 10\n",
        "batch_size = 128"
      ],
      "execution_count": 5,
      "outputs": []
    },
    {
      "cell_type": "code",
      "metadata": {
        "id": "shqE8UEWLRsk"
      },
      "source": [
        "## Base de données ##\n",
        "\n",
        "cifar =  tf.keras.datasets.cifar10\n",
        "(x_train, y_train),(x_test,y_test)=cifar.load_data()"
      ],
      "execution_count": 20,
      "outputs": []
    },
    {
      "cell_type": "code",
      "metadata": {
        "id": "BrAnKsaaLU_S"
      },
      "source": [
        "## Nous encodons à chaud les étiquettes pour la formation ##\n",
        "\n",
        "y_train_onehot = tf.keras.utils.to_categorical(y_train, num_classes=None, dtype='float32')\n",
        "y_test = to_categorical(y_test)"
      ],
      "execution_count": 7,
      "outputs": []
    },
    {
      "cell_type": "code",
      "metadata": {
        "id": "jhUgnm56LZfF"
      },
      "source": [
        "## Définition de l'optimiseur pour le modèle ##\n",
        "\n",
        "optimizer = tf.keras.optimizers.Adadelta(learning_rate=1e-3)\n",
        "objective = 'binary_crossentropy'"
      ],
      "execution_count": 8,
      "outputs": []
    },
    {
      "cell_type": "code",
      "metadata": {
        "colab": {
          "base_uri": "https://localhost:8080/"
        },
        "id": "JQ3XIMZcLeNW",
        "outputId": "a75cd03b-0373-4bf1-fdaa-fb1c2cba3fb8"
      },
      "source": [
        "## Création du modèle ##\n",
        "\n",
        "def googlenet():\n",
        "  def inception_block(x,f):\n",
        "    t1=Conv2D(f[0],1,activation='relu')(x)\n",
        "    t2= Conv2D(f[1],1,activation='relu')(x)\n",
        "    t2= Conv2D(f[2],3,padding='same', activation='relu')(t2)\n",
        "\n",
        "    t3= Conv2D(f[3],1,activation='relu')(x)\n",
        "    t3= Conv2D(f[4],5,padding='same', activation='relu')(t3)\n",
        "\n",
        "    t4=  MaxPool2D(3, strides=1,padding='same')(x)\n",
        "    t4= Conv2D(f[5],1, activation='relu')(t4)\n",
        "\n",
        "    output= Concatenate()([t1,t2,t3,t4])\n",
        "    return output\n",
        "\n",
        "  input=Input(shape=(32,32,3))\n",
        "\n",
        "  x= Conv2D(64,7,strides=2, padding='same', activation='relu')(input)\n",
        "  x= MaxPool2D(3,strides=2,padding='same')(x)\n",
        "  x=Conv2D(64,1,activation='relu')(x)\n",
        "  x= Conv2D(192,3, padding='same',activation='relu')(x)\n",
        "  x= MaxPool2D(3, strides=2, padding='same')(x)\n",
        "\n",
        "  x=inception_block(x,[64,96,128,16,32,32])\n",
        "  x=inception_block(x,[128,128,192,32,96,64])\n",
        "  x= MaxPool2D(3, strides=2, padding='same')(x)\n",
        "\n",
        "  x=inception_block(x,[192,96,208,16,48,64])\n",
        "  x=inception_block(x,[160,112,224,24,64,64])\n",
        "  x=inception_block(x,[128,128,256,24,64,64])\n",
        "  x=inception_block(x,[112,144,288,32,64,64])\n",
        "  x=inception_block(x,[256,160,320,32,128,128])\n",
        "  x= MaxPool2D(3, strides=2, padding='same')(x)\n",
        "\n",
        "  x=inception_block(x,[256,160,320,32,128,128])\n",
        "  x=inception_block(x,[384,192,384,48,128,128])\n",
        "  x=GlobalAvgPool2D()(x)\n",
        "  x=Dropout(0.4)(x)\n",
        "\n",
        "  output=Dense(10,activation='softmax')(x)\n",
        "  model=Model(input,output)\n",
        "  return model\n",
        "\n",
        "model=googlenet()\n",
        "\n",
        "## Affichage du résumé du modèle ##\n",
        "\n",
        "model.summary()\n",
        "\n",
        "## Compiler le modèle ##\n",
        "\n",
        "model.compile(loss=objective, optimizer=optimizer, metrics=['accuracy'])\n",
        "\n",
        "## Définition de l'arrêt précoce ##\n",
        "\n",
        "early_stopping = EarlyStopping(monitor='val_loss', patience=100, verbose=1, mode='auto')"
      ],
      "execution_count": 9,
      "outputs": [
        {
          "output_type": "stream",
          "text": [
            "Model: \"model\"\n",
            "__________________________________________________________________________________________________\n",
            "Layer (type)                    Output Shape         Param #     Connected to                     \n",
            "==================================================================================================\n",
            "input_1 (InputLayer)            [(None, 32, 32, 3)]  0                                            \n",
            "__________________________________________________________________________________________________\n",
            "conv2d (Conv2D)                 (None, 16, 16, 64)   9472        input_1[0][0]                    \n",
            "__________________________________________________________________________________________________\n",
            "max_pooling2d (MaxPooling2D)    (None, 8, 8, 64)     0           conv2d[0][0]                     \n",
            "__________________________________________________________________________________________________\n",
            "conv2d_1 (Conv2D)               (None, 8, 8, 64)     4160        max_pooling2d[0][0]              \n",
            "__________________________________________________________________________________________________\n",
            "conv2d_2 (Conv2D)               (None, 8, 8, 192)    110784      conv2d_1[0][0]                   \n",
            "__________________________________________________________________________________________________\n",
            "max_pooling2d_1 (MaxPooling2D)  (None, 4, 4, 192)    0           conv2d_2[0][0]                   \n",
            "__________________________________________________________________________________________________\n",
            "conv2d_4 (Conv2D)               (None, 4, 4, 96)     18528       max_pooling2d_1[0][0]            \n",
            "__________________________________________________________________________________________________\n",
            "conv2d_6 (Conv2D)               (None, 4, 4, 16)     3088        max_pooling2d_1[0][0]            \n",
            "__________________________________________________________________________________________________\n",
            "max_pooling2d_2 (MaxPooling2D)  (None, 4, 4, 192)    0           max_pooling2d_1[0][0]            \n",
            "__________________________________________________________________________________________________\n",
            "conv2d_3 (Conv2D)               (None, 4, 4, 64)     12352       max_pooling2d_1[0][0]            \n",
            "__________________________________________________________________________________________________\n",
            "conv2d_5 (Conv2D)               (None, 4, 4, 128)    110720      conv2d_4[0][0]                   \n",
            "__________________________________________________________________________________________________\n",
            "conv2d_7 (Conv2D)               (None, 4, 4, 32)     12832       conv2d_6[0][0]                   \n",
            "__________________________________________________________________________________________________\n",
            "conv2d_8 (Conv2D)               (None, 4, 4, 32)     6176        max_pooling2d_2[0][0]            \n",
            "__________________________________________________________________________________________________\n",
            "concatenate (Concatenate)       (None, 4, 4, 256)    0           conv2d_3[0][0]                   \n",
            "                                                                 conv2d_5[0][0]                   \n",
            "                                                                 conv2d_7[0][0]                   \n",
            "                                                                 conv2d_8[0][0]                   \n",
            "__________________________________________________________________________________________________\n",
            "conv2d_10 (Conv2D)              (None, 4, 4, 128)    32896       concatenate[0][0]                \n",
            "__________________________________________________________________________________________________\n",
            "conv2d_12 (Conv2D)              (None, 4, 4, 32)     8224        concatenate[0][0]                \n",
            "__________________________________________________________________________________________________\n",
            "max_pooling2d_3 (MaxPooling2D)  (None, 4, 4, 256)    0           concatenate[0][0]                \n",
            "__________________________________________________________________________________________________\n",
            "conv2d_9 (Conv2D)               (None, 4, 4, 128)    32896       concatenate[0][0]                \n",
            "__________________________________________________________________________________________________\n",
            "conv2d_11 (Conv2D)              (None, 4, 4, 192)    221376      conv2d_10[0][0]                  \n",
            "__________________________________________________________________________________________________\n",
            "conv2d_13 (Conv2D)              (None, 4, 4, 96)     76896       conv2d_12[0][0]                  \n",
            "__________________________________________________________________________________________________\n",
            "conv2d_14 (Conv2D)              (None, 4, 4, 64)     16448       max_pooling2d_3[0][0]            \n",
            "__________________________________________________________________________________________________\n",
            "concatenate_1 (Concatenate)     (None, 4, 4, 480)    0           conv2d_9[0][0]                   \n",
            "                                                                 conv2d_11[0][0]                  \n",
            "                                                                 conv2d_13[0][0]                  \n",
            "                                                                 conv2d_14[0][0]                  \n",
            "__________________________________________________________________________________________________\n",
            "max_pooling2d_4 (MaxPooling2D)  (None, 2, 2, 480)    0           concatenate_1[0][0]              \n",
            "__________________________________________________________________________________________________\n",
            "conv2d_16 (Conv2D)              (None, 2, 2, 96)     46176       max_pooling2d_4[0][0]            \n",
            "__________________________________________________________________________________________________\n",
            "conv2d_18 (Conv2D)              (None, 2, 2, 16)     7696        max_pooling2d_4[0][0]            \n",
            "__________________________________________________________________________________________________\n",
            "max_pooling2d_5 (MaxPooling2D)  (None, 2, 2, 480)    0           max_pooling2d_4[0][0]            \n",
            "__________________________________________________________________________________________________\n",
            "conv2d_15 (Conv2D)              (None, 2, 2, 192)    92352       max_pooling2d_4[0][0]            \n",
            "__________________________________________________________________________________________________\n",
            "conv2d_17 (Conv2D)              (None, 2, 2, 208)    179920      conv2d_16[0][0]                  \n",
            "__________________________________________________________________________________________________\n",
            "conv2d_19 (Conv2D)              (None, 2, 2, 48)     19248       conv2d_18[0][0]                  \n",
            "__________________________________________________________________________________________________\n",
            "conv2d_20 (Conv2D)              (None, 2, 2, 64)     30784       max_pooling2d_5[0][0]            \n",
            "__________________________________________________________________________________________________\n",
            "concatenate_2 (Concatenate)     (None, 2, 2, 512)    0           conv2d_15[0][0]                  \n",
            "                                                                 conv2d_17[0][0]                  \n",
            "                                                                 conv2d_19[0][0]                  \n",
            "                                                                 conv2d_20[0][0]                  \n",
            "__________________________________________________________________________________________________\n",
            "conv2d_22 (Conv2D)              (None, 2, 2, 112)    57456       concatenate_2[0][0]              \n",
            "__________________________________________________________________________________________________\n",
            "conv2d_24 (Conv2D)              (None, 2, 2, 24)     12312       concatenate_2[0][0]              \n",
            "__________________________________________________________________________________________________\n",
            "max_pooling2d_6 (MaxPooling2D)  (None, 2, 2, 512)    0           concatenate_2[0][0]              \n",
            "__________________________________________________________________________________________________\n",
            "conv2d_21 (Conv2D)              (None, 2, 2, 160)    82080       concatenate_2[0][0]              \n",
            "__________________________________________________________________________________________________\n",
            "conv2d_23 (Conv2D)              (None, 2, 2, 224)    226016      conv2d_22[0][0]                  \n",
            "__________________________________________________________________________________________________\n",
            "conv2d_25 (Conv2D)              (None, 2, 2, 64)     38464       conv2d_24[0][0]                  \n",
            "__________________________________________________________________________________________________\n",
            "conv2d_26 (Conv2D)              (None, 2, 2, 64)     32832       max_pooling2d_6[0][0]            \n",
            "__________________________________________________________________________________________________\n",
            "concatenate_3 (Concatenate)     (None, 2, 2, 512)    0           conv2d_21[0][0]                  \n",
            "                                                                 conv2d_23[0][0]                  \n",
            "                                                                 conv2d_25[0][0]                  \n",
            "                                                                 conv2d_26[0][0]                  \n",
            "__________________________________________________________________________________________________\n",
            "conv2d_28 (Conv2D)              (None, 2, 2, 128)    65664       concatenate_3[0][0]              \n",
            "__________________________________________________________________________________________________\n",
            "conv2d_30 (Conv2D)              (None, 2, 2, 24)     12312       concatenate_3[0][0]              \n",
            "__________________________________________________________________________________________________\n",
            "max_pooling2d_7 (MaxPooling2D)  (None, 2, 2, 512)    0           concatenate_3[0][0]              \n",
            "__________________________________________________________________________________________________\n",
            "conv2d_27 (Conv2D)              (None, 2, 2, 128)    65664       concatenate_3[0][0]              \n",
            "__________________________________________________________________________________________________\n",
            "conv2d_29 (Conv2D)              (None, 2, 2, 256)    295168      conv2d_28[0][0]                  \n",
            "__________________________________________________________________________________________________\n",
            "conv2d_31 (Conv2D)              (None, 2, 2, 64)     38464       conv2d_30[0][0]                  \n",
            "__________________________________________________________________________________________________\n",
            "conv2d_32 (Conv2D)              (None, 2, 2, 64)     32832       max_pooling2d_7[0][0]            \n",
            "__________________________________________________________________________________________________\n",
            "concatenate_4 (Concatenate)     (None, 2, 2, 512)    0           conv2d_27[0][0]                  \n",
            "                                                                 conv2d_29[0][0]                  \n",
            "                                                                 conv2d_31[0][0]                  \n",
            "                                                                 conv2d_32[0][0]                  \n",
            "__________________________________________________________________________________________________\n",
            "conv2d_34 (Conv2D)              (None, 2, 2, 144)    73872       concatenate_4[0][0]              \n",
            "__________________________________________________________________________________________________\n",
            "conv2d_36 (Conv2D)              (None, 2, 2, 32)     16416       concatenate_4[0][0]              \n",
            "__________________________________________________________________________________________________\n",
            "max_pooling2d_8 (MaxPooling2D)  (None, 2, 2, 512)    0           concatenate_4[0][0]              \n",
            "__________________________________________________________________________________________________\n",
            "conv2d_33 (Conv2D)              (None, 2, 2, 112)    57456       concatenate_4[0][0]              \n",
            "__________________________________________________________________________________________________\n",
            "conv2d_35 (Conv2D)              (None, 2, 2, 288)    373536      conv2d_34[0][0]                  \n",
            "__________________________________________________________________________________________________\n",
            "conv2d_37 (Conv2D)              (None, 2, 2, 64)     51264       conv2d_36[0][0]                  \n",
            "__________________________________________________________________________________________________\n",
            "conv2d_38 (Conv2D)              (None, 2, 2, 64)     32832       max_pooling2d_8[0][0]            \n",
            "__________________________________________________________________________________________________\n",
            "concatenate_5 (Concatenate)     (None, 2, 2, 528)    0           conv2d_33[0][0]                  \n",
            "                                                                 conv2d_35[0][0]                  \n",
            "                                                                 conv2d_37[0][0]                  \n",
            "                                                                 conv2d_38[0][0]                  \n",
            "__________________________________________________________________________________________________\n",
            "conv2d_40 (Conv2D)              (None, 2, 2, 160)    84640       concatenate_5[0][0]              \n",
            "__________________________________________________________________________________________________\n",
            "conv2d_42 (Conv2D)              (None, 2, 2, 32)     16928       concatenate_5[0][0]              \n",
            "__________________________________________________________________________________________________\n",
            "max_pooling2d_9 (MaxPooling2D)  (None, 2, 2, 528)    0           concatenate_5[0][0]              \n",
            "__________________________________________________________________________________________________\n",
            "conv2d_39 (Conv2D)              (None, 2, 2, 256)    135424      concatenate_5[0][0]              \n",
            "__________________________________________________________________________________________________\n",
            "conv2d_41 (Conv2D)              (None, 2, 2, 320)    461120      conv2d_40[0][0]                  \n",
            "__________________________________________________________________________________________________\n",
            "conv2d_43 (Conv2D)              (None, 2, 2, 128)    102528      conv2d_42[0][0]                  \n",
            "__________________________________________________________________________________________________\n",
            "conv2d_44 (Conv2D)              (None, 2, 2, 128)    67712       max_pooling2d_9[0][0]            \n",
            "__________________________________________________________________________________________________\n",
            "concatenate_6 (Concatenate)     (None, 2, 2, 832)    0           conv2d_39[0][0]                  \n",
            "                                                                 conv2d_41[0][0]                  \n",
            "                                                                 conv2d_43[0][0]                  \n",
            "                                                                 conv2d_44[0][0]                  \n",
            "__________________________________________________________________________________________________\n",
            "max_pooling2d_10 (MaxPooling2D) (None, 1, 1, 832)    0           concatenate_6[0][0]              \n",
            "__________________________________________________________________________________________________\n",
            "conv2d_46 (Conv2D)              (None, 1, 1, 160)    133280      max_pooling2d_10[0][0]           \n",
            "__________________________________________________________________________________________________\n",
            "conv2d_48 (Conv2D)              (None, 1, 1, 32)     26656       max_pooling2d_10[0][0]           \n",
            "__________________________________________________________________________________________________\n",
            "max_pooling2d_11 (MaxPooling2D) (None, 1, 1, 832)    0           max_pooling2d_10[0][0]           \n",
            "__________________________________________________________________________________________________\n",
            "conv2d_45 (Conv2D)              (None, 1, 1, 256)    213248      max_pooling2d_10[0][0]           \n",
            "__________________________________________________________________________________________________\n",
            "conv2d_47 (Conv2D)              (None, 1, 1, 320)    461120      conv2d_46[0][0]                  \n",
            "__________________________________________________________________________________________________\n",
            "conv2d_49 (Conv2D)              (None, 1, 1, 128)    102528      conv2d_48[0][0]                  \n",
            "__________________________________________________________________________________________________\n",
            "conv2d_50 (Conv2D)              (None, 1, 1, 128)    106624      max_pooling2d_11[0][0]           \n",
            "__________________________________________________________________________________________________\n",
            "concatenate_7 (Concatenate)     (None, 1, 1, 832)    0           conv2d_45[0][0]                  \n",
            "                                                                 conv2d_47[0][0]                  \n",
            "                                                                 conv2d_49[0][0]                  \n",
            "                                                                 conv2d_50[0][0]                  \n",
            "__________________________________________________________________________________________________\n",
            "conv2d_52 (Conv2D)              (None, 1, 1, 192)    159936      concatenate_7[0][0]              \n",
            "__________________________________________________________________________________________________\n",
            "conv2d_54 (Conv2D)              (None, 1, 1, 48)     39984       concatenate_7[0][0]              \n",
            "__________________________________________________________________________________________________\n",
            "max_pooling2d_12 (MaxPooling2D) (None, 1, 1, 832)    0           concatenate_7[0][0]              \n",
            "__________________________________________________________________________________________________\n",
            "conv2d_51 (Conv2D)              (None, 1, 1, 384)    319872      concatenate_7[0][0]              \n",
            "__________________________________________________________________________________________________\n",
            "conv2d_53 (Conv2D)              (None, 1, 1, 384)    663936      conv2d_52[0][0]                  \n",
            "__________________________________________________________________________________________________\n",
            "conv2d_55 (Conv2D)              (None, 1, 1, 128)    153728      conv2d_54[0][0]                  \n",
            "__________________________________________________________________________________________________\n",
            "conv2d_56 (Conv2D)              (None, 1, 1, 128)    106624      max_pooling2d_12[0][0]           \n",
            "__________________________________________________________________________________________________\n",
            "concatenate_8 (Concatenate)     (None, 1, 1, 1024)   0           conv2d_51[0][0]                  \n",
            "                                                                 conv2d_53[0][0]                  \n",
            "                                                                 conv2d_55[0][0]                  \n",
            "                                                                 conv2d_56[0][0]                  \n",
            "__________________________________________________________________________________________________\n",
            "global_average_pooling2d (Globa (None, 1024)         0           concatenate_8[0][0]              \n",
            "__________________________________________________________________________________________________\n",
            "dropout (Dropout)               (None, 1024)         0           global_average_pooling2d[0][0]   \n",
            "__________________________________________________________________________________________________\n",
            "dense (Dense)                   (None, 10)           10250       dropout[0][0]                    \n",
            "==================================================================================================\n",
            "Total params: 5,983,802\n",
            "Trainable params: 5,983,802\n",
            "Non-trainable params: 0\n",
            "__________________________________________________________________________________________________\n"
          ],
          "name": "stdout"
        }
      ]
    },
    {
      "cell_type": "code",
      "metadata": {
        "colab": {
          "base_uri": "https://localhost:8080/"
        },
        "id": "J3oXILTdLlIU",
        "outputId": "a2bf1d65-bc7d-4d8b-a9d6-e5e3220aa85e"
      },
      "source": [
        "## Formation du modèle ##\n",
        "history = model.fit(x_train, y_train_onehot, batch_size=batch_size, epochs=epochs,validation_split=0.25, verbose=1, shuffle=True, callbacks=[early_stopping])"
      ],
      "execution_count": 10,
      "outputs": [
        {
          "output_type": "stream",
          "text": [
            "Epoch 1/10\n",
            "293/293 [==============================] - 516s 2s/step - loss: 0.5669 - accuracy: 0.0995 - val_loss: 0.3345 - val_accuracy: 0.1266\n",
            "Epoch 2/10\n",
            "293/293 [==============================] - 503s 2s/step - loss: 0.3646 - accuracy: 0.1062 - val_loss: 0.3293 - val_accuracy: 0.1662\n",
            "Epoch 3/10\n",
            "293/293 [==============================] - 499s 2s/step - loss: 0.3510 - accuracy: 0.1075 - val_loss: 0.3269 - val_accuracy: 0.1988\n",
            "Epoch 4/10\n",
            "293/293 [==============================] - 498s 2s/step - loss: 0.3455 - accuracy: 0.1143 - val_loss: 0.3246 - val_accuracy: 0.2143\n",
            "Epoch 5/10\n",
            "293/293 [==============================] - 497s 2s/step - loss: 0.3404 - accuracy: 0.1238 - val_loss: 0.3221 - val_accuracy: 0.2496\n",
            "Epoch 6/10\n",
            "293/293 [==============================] - 496s 2s/step - loss: 0.3360 - accuracy: 0.1385 - val_loss: 0.3197 - val_accuracy: 0.2585\n",
            "Epoch 7/10\n",
            "293/293 [==============================] - 496s 2s/step - loss: 0.3321 - accuracy: 0.1512 - val_loss: 0.3169 - val_accuracy: 0.2773\n",
            "Epoch 8/10\n",
            "293/293 [==============================] - 497s 2s/step - loss: 0.3292 - accuracy: 0.1569 - val_loss: 0.3140 - val_accuracy: 0.2813\n",
            "Epoch 9/10\n",
            "293/293 [==============================] - 494s 2s/step - loss: 0.3254 - accuracy: 0.1694 - val_loss: 0.3109 - val_accuracy: 0.2877\n",
            "Epoch 10/10\n",
            "293/293 [==============================] - 497s 2s/step - loss: 0.3226 - accuracy: 0.1845 - val_loss: 0.3077 - val_accuracy: 0.2998\n"
          ],
          "name": "stdout"
        }
      ]
    },
    {
      "cell_type": "code",
      "metadata": {
        "id": "rlHHbLto3qgw"
      },
      "source": [
        "## Récupération des détails de l'historique à partir du modèle entraîné ##\n",
        "\n",
        "accuracy = history.history['accuracy']\n",
        "validation_accuracy = history.history['val_accuracy']\n",
        "Train_loss = history.history['loss']\n",
        "validation_loss = history.history['val_loss']\n",
        "epochs = range(1, len(accuracy) + 1)\n"
      ],
      "execution_count": 11,
      "outputs": []
    },
    {
      "cell_type": "code",
      "metadata": {
        "colab": {
          "base_uri": "https://localhost:8080/",
          "height": 297
        },
        "id": "27DRWZwF3r2m",
        "outputId": "8836cf0d-204c-4d87-e80d-4e14c02da4ab"
      },
      "source": [
        "## Tracer la précision du modèle ##\n",
        "\n",
        "plt.title('Accuracy Plot')\n",
        "plt.plot(epochs, accuracy, 'green', label='Training Accuracy')\n",
        "plt.plot(epochs, validation_accuracy, 'brown', label='Validation Accuracy')\n",
        "legend = plt.legend(loc='best', shadow=True, fontsize='small')\n",
        "legend.get_frame().set_facecolor('C0')\n",
        "plt.legend()\n",
        "plt.xlabel('Epoch')\n",
        "plt.ylabel('Accuracy')\n",
        "plt.tight_layout()\n",
        "plt.grid(True)\n",
        "\n",
        "plt.show()\n"
      ],
      "execution_count": 15,
      "outputs": [
        {
          "output_type": "display_data",
          "data": {
            "image/png": "[encoded data removed]",
            "text/plain": [
              "<Figure size 432x288 with 1 Axes>"
            ]
          },
          "metadata": {
            "tags": [],
            "needs_background": "light"
          }
        }
      ]
    },
    {
      "cell_type": "code",
      "metadata": {
        "colab": {
          "base_uri": "https://localhost:8080/",
          "height": 297
        },
        "id": "0IXcW9Ze3vyX",
        "outputId": "6687e074-f36d-4a5a-d010-35b065aa736b"
      },
      "source": [
        "## Tracer la perte pour le modèle ##\n",
        "plt.title('Loss Plot')\n",
        "plt.plot(epochs, Train_loss, 'green', label='Training loss')\n",
        "plt.plot(epochs, validation_loss, 'brown', label='Validation loss')\n",
        "legend = plt.legend(loc='best', shadow=True, fontsize='small')\n",
        "legend.get_frame().set_facecolor('C0')\n",
        "plt.legend()\n",
        "plt.xlabel('Epoch')\n",
        "plt.ylabel('Loss')\n",
        "plt.tight_layout()\n",
        "plt.grid(True)\n",
        "\n",
        "plt.show()"
      ],
      "execution_count": 16,
      "outputs": [
        {
          "output_type": "display_data",
          "data": {
            "image/png": "[encoded data removed]",
            "text/plain": [
              "<Figure size 432x288 with 1 Axes>"
            ]
          },
          "metadata": {
            "tags": [],
            "needs_background": "light"
          }
        }
      ]
    }
  ]
}